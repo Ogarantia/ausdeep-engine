{
 "cells": [
  {
   "cell_type": "code",
   "execution_count": 1,
   "metadata": {},
   "outputs": [],
   "source": [
    "import pytest\n",
    "import tensorflow as tf\n",
    "import numpy as np\n",
    "from upstride import generic_layers\n",
    "\n",
    "gpus = tf.config.experimental.list_physical_devices('GPU')\n",
    "for gpu in gpus:\n",
    "    tf.config.experimental.set_memory_growth(gpu, True)"
   ]
  },
  {
   "cell_type": "code",
   "execution_count": 2,
   "metadata": {},
   "outputs": [],
   "source": [
    "l = generic_layers.Dense(1, ['', '12'], (2, 0, 0), units=1, kernel_initializer='ones')\n",
    "img = np.ones((2, 1), dtype='float32')\n",
    "out = l(img)\n",
    "ref = [[0], [2]]\n",
    "assert np.all(out == ref)"
   ]
  },
  {
   "cell_type": "code",
   "execution_count": 3,
   "metadata": {},
   "outputs": [],
   "source": [
    "def assert_small_float_difference(tensor1, tensor2, relative_error_threshold):\n",
    "    \"\"\" Asserts float tensors differ by no more than threshold scaled by the values checked\n",
    "    \"\"\"\n",
    "    abs_diff = tf.abs(tensor1 - tensor2)\n",
    "    abs_max_tensors = tf.abs(tf.maximum(tensor1, tensor2))\n",
    "    threshold = relative_error_threshold * (1 + abs_max_tensors)\n",
    "    assert tf.reduce_all(abs_diff < threshold)"
   ]
  },
  {
   "cell_type": "code",
   "execution_count": 4,
   "metadata": {},
   "outputs": [],
   "source": [
    "def assert_small_float_difference_numpy(tensor1, tensor2, relative_error_threshold):\n",
    "    \"\"\" Asserts float tensors differ by no more than threshold scaled by the values checked\n",
    "    \"\"\"\n",
    "    abs_diff = np.abs(tensor1 - tensor2)\n",
    "    abs_max_tensors = np.abs(np.maximum(tensor1, tensor2))\n",
    "    threshold = relative_error_threshold * (1 + abs_max_tensors)\n",
    "    assert (abs_diff < threshold).all()"
   ]
  },
  {
   "cell_type": "code",
   "execution_count": null,
   "metadata": {},
   "outputs": [],
   "source": [
    "# def test_dense_simplest():\n",
    "#     l = generic_layers.Dense(1, ['', '12'], (2, 0, 0), units=1, kernel_initializer='ones')\n",
    "#     img = np.ones((2, 1))\n",
    "#     out = l(img)\n",
    "#     ref = [[0], [2]]\n",
    "#     assert np.all(out == ref)\n",
    "\n",
    "def test_dense():\n",
    "    l = generic_layers.Dense(1, ['', '12'], (2, 0, 0), units=1, kernel_initializer='ones')\n",
    "    tensor_len = 2\n",
    "    real = np.random.rand(tensor_len)\n",
    "    imaginary = np.random.rand(tensor_len)\n",
    "    img = np.concatenate((real, imaginary))\n",
    "    img = np.expand_dims(img, axis=1)\n",
    "    comp = real + imaginary * 1j\n",
    "    out = l(img)\n",
    "\n",
    "    print(img)\n",
    "    print(comp)\n",
    "    print(out)"
   ]
  },
  {
   "cell_type": "code",
   "execution_count": 5,
   "metadata": {},
   "outputs": [],
   "source": [
    "l = generic_layers.Dense(1, ['', '12'], (2, 0, 0), units=1)\n",
    "tensor_len = 3\n",
    "real = np.random.rand(tensor_len)\n",
    "imaginary = np.random.rand(tensor_len)\n",
    "img = np.concatenate((real, imaginary))\n",
    "img = np.expand_dims(img, axis=1).astype('f')\n",
    "out = l(img)\n",
    "real_out, imaginary_out = np.split(out, 2, axis=0)\n",
    "fin = real_out + imaginary_out * 1j"
   ]
  },
  {
   "cell_type": "code",
   "execution_count": 6,
   "metadata": {},
   "outputs": [],
   "source": [
    "comp = real + imaginary * 1j\n",
    "w = l.get_weights()[0]\n",
    "w_comp = w[0][0] + w[0][1] * 1j\n",
    "out_comp = comp * w_comp\n",
    "fin_2 = np.expand_dims(out_comp, axis=1)"
   ]
  },
  {
   "cell_type": "code",
   "execution_count": 7,
   "metadata": {},
   "outputs": [],
   "source": [
    "assert_small_float_difference_numpy(fin, fin_2, 0.00001)"
   ]
  },
  {
   "cell_type": "code",
   "execution_count": 8,
   "metadata": {},
   "outputs": [],
   "source": [
    "l = generic_layers.Dense(1, ['', '12'], (2, 0, 0), units=1)\n",
    "tensor_len = 3\n",
    "real = np.random.rand(tensor_len)\n",
    "imaginary = np.random.rand(tensor_len)\n",
    "img = np.concatenate((real, imaginary))\n",
    "img = np.reshape(img, (2, tensor_len)).astype('f')\n",
    "out = l(img)\n",
    "out = np.squeeze(out)"
   ]
  },
  {
   "cell_type": "code",
   "execution_count": 9,
   "metadata": {},
   "outputs": [],
   "source": [
    "comp = real + imaginary * 1j\n",
    "w = l.get_weights()[0]\n",
    "w = np.array(list(map(lambda x : x[0] + x[1] * 1j, w)))"
   ]
  },
  {
   "cell_type": "code",
   "execution_count": 10,
   "metadata": {},
   "outputs": [],
   "source": [
    "comp_out = sum(w * comp)\n",
    "comp_out = [comp_out.real, comp_out.imag]"
   ]
  },
  {
   "cell_type": "code",
   "execution_count": 11,
   "metadata": {},
   "outputs": [],
   "source": [
    "assert_small_float_difference_numpy(out, comp_out, 0.00001)"
   ]
  },
  {
   "cell_type": "code",
   "execution_count": 12,
   "metadata": {},
   "outputs": [],
   "source": [
    "l = generic_layers.Dense(1, ['', '12'], (2, 0, 0), units=1, kernel_initializer='ones')"
   ]
  },
  {
   "cell_type": "code",
   "execution_count": 13,
   "metadata": {},
   "outputs": [],
   "source": [
    "img = np.ones((8, 4), dtype='float32')\n",
    "out = l(img)"
   ]
  },
  {
   "cell_type": "code",
   "execution_count": 14,
   "metadata": {},
   "outputs": [],
   "source": [
    "images = 2\n",
    "channels = 3\n",
    "size = images * channels\n",
    "real = np.random.rand(size)\n",
    "imag = np.random.rand(size)\n",
    "inp = np.concatenate((real, imag)).reshape(images * 2, channels).astype('f')"
   ]
  },
  {
   "cell_type": "code",
   "execution_count": 15,
   "metadata": {},
   "outputs": [
    {
     "data": {
      "text/plain": [
       "array([[0.2301261 , 0.11060228, 0.97221565],\n",
       "       [0.1073442 , 0.31989068, 0.6991877 ],\n",
       "       [0.8913892 , 0.9082932 , 0.72102904],\n",
       "       [0.5737233 , 0.02749028, 0.20947774]], dtype=float32)"
      ]
     },
     "execution_count": 15,
     "metadata": {},
     "output_type": "execute_result"
    }
   ],
   "source": [
    "inp"
   ]
  },
  {
   "cell_type": "code",
   "execution_count": 16,
   "metadata": {},
   "outputs": [],
   "source": [
    "uni = 1 + 1j"
   ]
  },
  {
   "cell_type": "code",
   "execution_count": 17,
   "metadata": {},
   "outputs": [],
   "source": [
    "comp = real + imag * 1j"
   ]
  },
  {
   "cell_type": "code",
   "execution_count": 18,
   "metadata": {},
   "outputs": [],
   "source": [
    "interm = comp * uni"
   ]
  },
  {
   "cell_type": "code",
   "execution_count": 19,
   "metadata": {},
   "outputs": [],
   "source": [
    "fin_comp = np.sum(np.split(interm, images), axis=1)"
   ]
  },
  {
   "cell_type": "code",
   "execution_count": 20,
   "metadata": {},
   "outputs": [
    {
     "data": {
      "text/plain": [
       "array([-1.20776734,  0.31573119,  3.83365545,  1.93711389])"
      ]
     },
     "execution_count": 20,
     "metadata": {},
     "output_type": "execute_result"
    }
   ],
   "source": [
    "np.concatenate((fin_comp.real, fin_comp.imag))"
   ]
  },
  {
   "cell_type": "code",
   "execution_count": 21,
   "metadata": {},
   "outputs": [
    {
     "data": {
      "text/plain": [
       "array([[1., 1.],\n",
       "       [1., 1.],\n",
       "       [1., 1.],\n",
       "       [1., 1.]], dtype=float32)"
      ]
     },
     "execution_count": 21,
     "metadata": {},
     "output_type": "execute_result"
    }
   ],
   "source": [
    "l.get_weights()[0]"
   ]
  },
  {
   "cell_type": "code",
   "execution_count": 22,
   "metadata": {},
   "outputs": [],
   "source": [
    "def test_dense():\n",
    "    units = 2\n",
    "    images = 2\n",
    "    channels = 3\n",
    "    l = generic_layers.Dense(1, ['', '12'], (2, 0, 0), units=units)\n",
    "    size = images * channels\n",
    "    real = np.random.rand(size)\n",
    "    imag = np.random.rand(size)\n",
    "    inp = np.concatenate((real, imag)).reshape(images * 2, channels).astype('f')\n",
    "    out = l(inp).numpy()\n",
    "\n",
    "    comp = np.array(real + imag * 1j).reshape(images, channels)\n",
    "    w = l.get_weights()[0]\n",
    "    real_w, imag_w = np.split(w, 2, axis=1)\n",
    "    comp_w = real_w + imag_w * 1j\n",
    "    comp_out = np.sum(np.array([comp * comp_w[:, i] for i in range(units)]), axis=2)\n",
    "    comp_out = np.transpose(comp_out)\n",
    "    comp_out = np.concatenate((comp_out.real, comp_out.imag))\n",
    "\n",
    "    assert_small_float_difference_numpy(out, comp_out, 0.00001)"
   ]
  },
  {
   "cell_type": "code",
   "execution_count": 23,
   "metadata": {},
   "outputs": [],
   "source": [
    "test_dense()"
   ]
  },
  {
   "cell_type": "code",
   "execution_count": 24,
   "metadata": {},
   "outputs": [],
   "source": [
    "tf.keras.backend.set_image_data_format('channels_last')"
   ]
  },
  {
   "cell_type": "code",
   "execution_count": 25,
   "metadata": {},
   "outputs": [
    {
     "name": "stdout",
     "output_type": "stream",
     "text": [
      "[[-1.01062724  0.8018811 ]\n",
      " [-0.57492527 -0.10408887]\n",
      " [-0.0246183  -0.26509437]\n",
      " [ 0.19089559 -0.96583212]]\n",
      "[[-1.0106273   0.80188113]\n",
      " [-0.57492524 -0.10408884]\n",
      " [-0.0246183  -0.26509434]\n",
      " [ 0.19089562 -0.9658322 ]]\n"
     ]
    }
   ],
   "source": [
    "units = 2\n",
    "images = 2\n",
    "channels = 3\n",
    "l = generic_layers.Dense(1, ['', '12'], (2, 0, 0), units=units)\n",
    "size = images * channels\n",
    "real = np.random.rand(size)\n",
    "imag = np.random.rand(size)\n",
    "inp = np.concatenate((real, imag)).reshape(images * 2, channels).astype('f')\n",
    "out = l(inp).numpy()\n",
    "\n",
    "comp = np.array(real + imag * 1j).reshape(images, channels)\n",
    "w = l.get_weights()[0]\n",
    "real_w, imag_w = np.split(w, 2, axis=1)\n",
    "# comp_w = np.array(list(map(lambda x : x[0] + x[1] * 1j, w)))\n",
    "comp_w = real_w + imag_w * 1j\n",
    "comp_out = np.sum(np.array([comp * comp_w[:, i] for i in range(units)]), axis=2)\n",
    "comp_out = np.transpose(comp_out)\n",
    "# comp_out = np.sum(comp * comp_w, axis=1)\n",
    "comp_out = np.concatenate((comp_out.real, comp_out.imag))\n",
    "print(comp_out)\n",
    "print(out)\n",
    "\n",
    "assert_small_float_difference_numpy(out, comp_out, 0.00001)"
   ]
  },
  {
   "cell_type": "code",
   "execution_count": 26,
   "metadata": {},
   "outputs": [
    {
     "data": {
      "text/plain": [
       "array([[-1.01062724, -0.57492527, -0.0246183 ,  0.19089559],\n",
       "       [ 0.8018811 , -0.10408887, -0.26509437, -0.96583212],\n",
       "       [ 0.        ,  0.        ,  0.        ,  0.        ],\n",
       "       [ 0.        ,  0.        ,  0.        ,  0.        ]])"
      ]
     },
     "execution_count": 26,
     "metadata": {},
     "output_type": "execute_result"
    }
   ],
   "source": [
    "a = np.transpose(comp_out)\n",
    "np.concatenate((a.real, a.imag))"
   ]
  },
  {
   "cell_type": "code",
   "execution_count": 27,
   "metadata": {},
   "outputs": [
    {
     "data": {
      "text/plain": [
       "array([[-1.0106273 ,  0.80188113],\n",
       "       [-0.57492524, -0.10408884],\n",
       "       [-0.0246183 , -0.26509434],\n",
       "       [ 0.19089562, -0.9658322 ]], dtype=float32)"
      ]
     },
     "execution_count": 27,
     "metadata": {},
     "output_type": "execute_result"
    }
   ],
   "source": [
    "out"
   ]
  },
  {
   "cell_type": "code",
   "execution_count": 28,
   "metadata": {},
   "outputs": [
    {
     "data": {
      "text/plain": [
       "[array([[-0.27667278, -0.4203325 ,  0.521034  ,  0.60974824],\n",
       "        [ 0.0855304 , -0.26570588,  0.5654576 , -0.8775375 ],\n",
       "        [-0.1781258 ,  0.41945064, -0.23306441, -0.4980507 ]],\n",
       "       dtype=float32),\n",
       " array([[0., 0., 0., 0.]], dtype=float32)]"
      ]
     },
     "execution_count": 28,
     "metadata": {},
     "output_type": "execute_result"
    }
   ],
   "source": [
    "l.get_weights()"
   ]
  },
  {
   "cell_type": "code",
   "execution_count": 29,
   "metadata": {},
   "outputs": [],
   "source": [
    "real_w, imag_w = np.split(w, 2, axis=1)"
   ]
  },
  {
   "cell_type": "code",
   "execution_count": 30,
   "metadata": {},
   "outputs": [
    {
     "data": {
      "text/plain": [
       "array([[-0.27667278, -0.4203325 ],\n",
       "       [ 0.0855304 , -0.26570588],\n",
       "       [-0.1781258 ,  0.41945064]], dtype=float32)"
      ]
     },
     "execution_count": 30,
     "metadata": {},
     "output_type": "execute_result"
    }
   ],
   "source": [
    "real_w"
   ]
  },
  {
   "cell_type": "code",
   "execution_count": 31,
   "metadata": {},
   "outputs": [
    {
     "data": {
      "text/plain": [
       "<tf.Tensor: shape=(2, 1), dtype=float32, numpy=\n",
       "array([[ 0.04553461],\n",
       "       [-2.3930364 ]], dtype=float32)>"
      ]
     },
     "execution_count": 31,
     "metadata": {},
     "output_type": "execute_result"
    }
   ],
   "source": [
    "l = generic_layers.Dense(1, ['', '12'], (2, 0, 0), units=1)\n",
    "inp = np.ones((2,4), dtype='f')\n",
    "l(inp)"
   ]
  },
  {
   "cell_type": "code",
   "execution_count": 32,
   "metadata": {},
   "outputs": [
    {
     "ename": "AssertionError",
     "evalue": "",
     "output_type": "error",
     "traceback": [
      "\u001b[0;31m---------------------------------------------------------------------------\u001b[0m",
      "\u001b[0;31mAssertionError\u001b[0m                            Traceback (most recent call last)",
      "\u001b[0;32m<ipython-input-32-984cadd7694f>\u001b[0m in \u001b[0;36m<module>\u001b[0;34m\u001b[0m\n\u001b[1;32m     31\u001b[0m \u001b[0mcomp_out\u001b[0m \u001b[0;34m=\u001b[0m \u001b[0mnp\u001b[0m\u001b[0;34m.\u001b[0m\u001b[0mconcatenate\u001b[0m\u001b[0;34m(\u001b[0m\u001b[0;34m(\u001b[0m\u001b[0mcomp_real\u001b[0m\u001b[0;34m,\u001b[0m \u001b[0mcomp_imag\u001b[0m\u001b[0;34m)\u001b[0m\u001b[0;34m)\u001b[0m\u001b[0;34m\u001b[0m\u001b[0;34m\u001b[0m\u001b[0m\n\u001b[1;32m     32\u001b[0m \u001b[0;34m\u001b[0m\u001b[0m\n\u001b[0;32m---> 33\u001b[0;31m \u001b[0massert_small_float_difference_numpy\u001b[0m\u001b[0;34m(\u001b[0m\u001b[0mout\u001b[0m\u001b[0;34m,\u001b[0m \u001b[0mcomp_out\u001b[0m\u001b[0;34m,\u001b[0m \u001b[0;36m0.00001\u001b[0m\u001b[0;34m)\u001b[0m\u001b[0;34m\u001b[0m\u001b[0;34m\u001b[0m\u001b[0m\n\u001b[0m",
      "\u001b[0;32m<ipython-input-4-2d1817253eff>\u001b[0m in \u001b[0;36massert_small_float_difference_numpy\u001b[0;34m(tensor1, tensor2, relative_error_threshold)\u001b[0m\n\u001b[1;32m      5\u001b[0m     \u001b[0mabs_max_tensors\u001b[0m \u001b[0;34m=\u001b[0m \u001b[0mnp\u001b[0m\u001b[0;34m.\u001b[0m\u001b[0mabs\u001b[0m\u001b[0;34m(\u001b[0m\u001b[0mnp\u001b[0m\u001b[0;34m.\u001b[0m\u001b[0mmaximum\u001b[0m\u001b[0;34m(\u001b[0m\u001b[0mtensor1\u001b[0m\u001b[0;34m,\u001b[0m \u001b[0mtensor2\u001b[0m\u001b[0;34m)\u001b[0m\u001b[0;34m)\u001b[0m\u001b[0;34m\u001b[0m\u001b[0;34m\u001b[0m\u001b[0m\n\u001b[1;32m      6\u001b[0m     \u001b[0mthreshold\u001b[0m \u001b[0;34m=\u001b[0m \u001b[0mrelative_error_threshold\u001b[0m \u001b[0;34m*\u001b[0m \u001b[0;34m(\u001b[0m\u001b[0;36m1\u001b[0m \u001b[0;34m+\u001b[0m \u001b[0mabs_max_tensors\u001b[0m\u001b[0;34m)\u001b[0m\u001b[0;34m\u001b[0m\u001b[0;34m\u001b[0m\u001b[0m\n\u001b[0;32m----> 7\u001b[0;31m     \u001b[0;32massert\u001b[0m \u001b[0;34m(\u001b[0m\u001b[0mabs_diff\u001b[0m \u001b[0;34m<\u001b[0m \u001b[0mthreshold\u001b[0m\u001b[0;34m)\u001b[0m\u001b[0;34m.\u001b[0m\u001b[0mall\u001b[0m\u001b[0;34m(\u001b[0m\u001b[0;34m)\u001b[0m\u001b[0;34m\u001b[0m\u001b[0;34m\u001b[0m\u001b[0m\n\u001b[0m",
      "\u001b[0;31mAssertionError\u001b[0m: "
     ]
    }
   ],
   "source": [
    "kernel_size = 1\n",
    "batch_size = 1\n",
    "height = 1\n",
    "width = 1\n",
    "channels = 2\n",
    "\n",
    "l = generic_layers.DepthwiseConv2D(1, ['', '12'], (2, 0, 0), kernel_size=kernel_size, depthwise_initializer='ones')\n",
    "t_shape = (batch_size, height, width, channels)\n",
    "# real = np.zeros(t_shape).astype('f') # np.random.randint(3, size=t_shape).astype('f')\n",
    "# imag = np.ones(t_shape).astype('f') # np.random.randint(3, size=t_shape).astype('f')\n",
    "real = np.array([1] + [0] * (channels - 1)).reshape(t_shape).astype('f')\n",
    "imag = np.zeros(t_shape).astype('f')\n",
    "# imag = np.array([1,0]).reshape(t_shape).astype('f')\n",
    "inp = np.concatenate((real, imag)).astype('f')\n",
    "out = l(inp).numpy()\n",
    "\n",
    "w = l.get_weights()[0]\n",
    "real_w, imag_w = np.split(w, 2, axis=3)\n",
    "\n",
    "l_tf = tf.keras.layers.DepthwiseConv2D(kernel_size=kernel_size)\n",
    "l_tf(real)\n",
    "l_tf.set_weights([real_w, l_tf.get_weights()[1]])\n",
    "real_real = l_tf(real)\n",
    "real_imag = l_tf(imag)\n",
    "l_tf.set_weights([imag_w, l_tf.get_weights()[1]])\n",
    "imag_real = l_tf(real)\n",
    "imag_imag = l_tf(imag)\n",
    "comp_real = real_real - imag_imag\n",
    "comp_imag = real_imag + imag_real\n",
    "comp_out = np.concatenate((comp_real, comp_imag))\n",
    "\n",
    "assert_small_float_difference_numpy(out, comp_out, 0.00001)"
   ]
  },
  {
   "cell_type": "code",
   "execution_count": 33,
   "metadata": {},
   "outputs": [],
   "source": [
    "tf.keras.backend.set_image_data_format('channels_first')"
   ]
  },
  {
   "cell_type": "code",
   "execution_count": 34,
   "metadata": {},
   "outputs": [
    {
     "ename": "AssertionError",
     "evalue": "",
     "output_type": "error",
     "traceback": [
      "\u001b[0;31m---------------------------------------------------------------------------\u001b[0m",
      "\u001b[0;31mAssertionError\u001b[0m                            Traceback (most recent call last)",
      "\u001b[0;32m<ipython-input-34-264775dcf30d>\u001b[0m in \u001b[0;36m<module>\u001b[0;34m\u001b[0m\n\u001b[1;32m     28\u001b[0m \u001b[0mcomp_out\u001b[0m \u001b[0;34m=\u001b[0m \u001b[0mnp\u001b[0m\u001b[0;34m.\u001b[0m\u001b[0mconcatenate\u001b[0m\u001b[0;34m(\u001b[0m\u001b[0;34m(\u001b[0m\u001b[0mcomp_real\u001b[0m\u001b[0;34m,\u001b[0m \u001b[0mcomp_imag\u001b[0m\u001b[0;34m)\u001b[0m\u001b[0;34m)\u001b[0m\u001b[0;34m\u001b[0m\u001b[0;34m\u001b[0m\u001b[0m\n\u001b[1;32m     29\u001b[0m \u001b[0;34m\u001b[0m\u001b[0m\n\u001b[0;32m---> 30\u001b[0;31m \u001b[0massert_small_float_difference_numpy\u001b[0m\u001b[0;34m(\u001b[0m\u001b[0mout\u001b[0m\u001b[0;34m,\u001b[0m \u001b[0mcomp_out\u001b[0m\u001b[0;34m,\u001b[0m \u001b[0;36m0.00001\u001b[0m\u001b[0;34m)\u001b[0m\u001b[0;34m\u001b[0m\u001b[0;34m\u001b[0m\u001b[0m\n\u001b[0m",
      "\u001b[0;32m<ipython-input-4-2d1817253eff>\u001b[0m in \u001b[0;36massert_small_float_difference_numpy\u001b[0;34m(tensor1, tensor2, relative_error_threshold)\u001b[0m\n\u001b[1;32m      5\u001b[0m     \u001b[0mabs_max_tensors\u001b[0m \u001b[0;34m=\u001b[0m \u001b[0mnp\u001b[0m\u001b[0;34m.\u001b[0m\u001b[0mabs\u001b[0m\u001b[0;34m(\u001b[0m\u001b[0mnp\u001b[0m\u001b[0;34m.\u001b[0m\u001b[0mmaximum\u001b[0m\u001b[0;34m(\u001b[0m\u001b[0mtensor1\u001b[0m\u001b[0;34m,\u001b[0m \u001b[0mtensor2\u001b[0m\u001b[0;34m)\u001b[0m\u001b[0;34m)\u001b[0m\u001b[0;34m\u001b[0m\u001b[0;34m\u001b[0m\u001b[0m\n\u001b[1;32m      6\u001b[0m     \u001b[0mthreshold\u001b[0m \u001b[0;34m=\u001b[0m \u001b[0mrelative_error_threshold\u001b[0m \u001b[0;34m*\u001b[0m \u001b[0;34m(\u001b[0m\u001b[0;36m1\u001b[0m \u001b[0;34m+\u001b[0m \u001b[0mabs_max_tensors\u001b[0m\u001b[0;34m)\u001b[0m\u001b[0;34m\u001b[0m\u001b[0;34m\u001b[0m\u001b[0m\n\u001b[0;32m----> 7\u001b[0;31m     \u001b[0;32massert\u001b[0m \u001b[0;34m(\u001b[0m\u001b[0mabs_diff\u001b[0m \u001b[0;34m<\u001b[0m \u001b[0mthreshold\u001b[0m\u001b[0;34m)\u001b[0m\u001b[0;34m.\u001b[0m\u001b[0mall\u001b[0m\u001b[0;34m(\u001b[0m\u001b[0;34m)\u001b[0m\u001b[0;34m\u001b[0m\u001b[0;34m\u001b[0m\u001b[0m\n\u001b[0m",
      "\u001b[0;31mAssertionError\u001b[0m: "
     ]
    }
   ],
   "source": [
    "kernel_size = 1\n",
    "batch_size = 1\n",
    "height = 1\n",
    "width = 1\n",
    "channels = 2\n",
    "\n",
    "l = generic_layers.DepthwiseConv2D(1, ['', '12'], (2, 0, 0), kernel_size=kernel_size, depthwise_initializer='ones')\n",
    "t_shape = (batch_size, channels, height, width)\n",
    "real = np.array([1] + [0] * (channels - 1)).reshape(t_shape).astype('f')\n",
    "imag = np.array([3] + [0] * (channels - 1)).reshape(t_shape).astype('f') # np.zeros(t_shape).astype('f')\n",
    "inp = np.concatenate((real, imag)).astype('f')\n",
    "out = l(inp).numpy()\n",
    "\n",
    "w = l.get_weights()[0]\n",
    "real_w, imag_w = np.split(w, 2, axis=3)\n",
    "\n",
    "l_tf = tf.keras.layers.DepthwiseConv2D(kernel_size=kernel_size)\n",
    "l_tf(real)\n",
    "l_tf.set_weights([real_w, l_tf.get_weights()[1]])\n",
    "real_real = l_tf(real)\n",
    "real_imag = l_tf(imag)\n",
    "l_tf.set_weights([imag_w, l_tf.get_weights()[1]])\n",
    "imag_real = l_tf(real)\n",
    "imag_imag = l_tf(imag)\n",
    "comp_real = real_real - imag_imag\n",
    "comp_imag = real_imag + imag_real\n",
    "comp_out = np.concatenate((comp_real, comp_imag))\n",
    "\n",
    "assert_small_float_difference_numpy(out, comp_out, 0.00001)"
   ]
  },
  {
   "cell_type": "code",
   "execution_count": 35,
   "metadata": {},
   "outputs": [
    {
     "data": {
      "text/plain": [
       "<tf.Tensor: shape=(1, 2, 1, 1), dtype=float32, numpy=\n",
       "array([[[[-2.]],\n",
       "\n",
       "        [[ 0.]]]], dtype=float32)>"
      ]
     },
     "execution_count": 35,
     "metadata": {},
     "output_type": "execute_result"
    }
   ],
   "source": [
    "comp_real"
   ]
  },
  {
   "cell_type": "code",
   "execution_count": 36,
   "metadata": {},
   "outputs": [
    {
     "data": {
      "text/plain": [
       "<tf.Tensor: shape=(1, 2, 1, 1), dtype=float32, numpy=\n",
       "array([[[[4.]],\n",
       "\n",
       "        [[0.]]]], dtype=float32)>"
      ]
     },
     "execution_count": 36,
     "metadata": {},
     "output_type": "execute_result"
    }
   ],
   "source": [
    "comp_imag"
   ]
  },
  {
   "cell_type": "code",
   "execution_count": 37,
   "metadata": {},
   "outputs": [
    {
     "data": {
      "text/plain": [
       "<tf.Tensor: shape=(1, 2, 1, 1), dtype=float32, numpy=\n",
       "array([[[[1.]],\n",
       "\n",
       "        [[0.]]]], dtype=float32)>"
      ]
     },
     "execution_count": 37,
     "metadata": {},
     "output_type": "execute_result"
    }
   ],
   "source": [
    "real_real"
   ]
  },
  {
   "cell_type": "code",
   "execution_count": 38,
   "metadata": {},
   "outputs": [
    {
     "data": {
      "text/plain": [
       "<tf.Tensor: shape=(1, 2, 1, 1), dtype=float32, numpy=\n",
       "array([[[[3.]],\n",
       "\n",
       "        [[0.]]]], dtype=float32)>"
      ]
     },
     "execution_count": 38,
     "metadata": {},
     "output_type": "execute_result"
    }
   ],
   "source": [
    "real_imag"
   ]
  },
  {
   "cell_type": "code",
   "execution_count": 39,
   "metadata": {},
   "outputs": [
    {
     "data": {
      "text/plain": [
       "<tf.Tensor: shape=(1, 2, 1, 1), dtype=float32, numpy=\n",
       "array([[[[1.]],\n",
       "\n",
       "        [[0.]]]], dtype=float32)>"
      ]
     },
     "execution_count": 39,
     "metadata": {},
     "output_type": "execute_result"
    }
   ],
   "source": [
    "imag_real"
   ]
  },
  {
   "cell_type": "code",
   "execution_count": 40,
   "metadata": {},
   "outputs": [
    {
     "data": {
      "text/plain": [
       "<tf.Tensor: shape=(1, 2, 1, 1), dtype=float32, numpy=\n",
       "array([[[[3.]],\n",
       "\n",
       "        [[0.]]]], dtype=float32)>"
      ]
     },
     "execution_count": 40,
     "metadata": {},
     "output_type": "execute_result"
    }
   ],
   "source": [
    "imag_imag"
   ]
  },
  {
   "cell_type": "code",
   "execution_count": 41,
   "metadata": {},
   "outputs": [
    {
     "data": {
      "text/plain": [
       "array([[[[1.]],\n",
       "\n",
       "        [[0.]]],\n",
       "\n",
       "\n",
       "       [[[3.]],\n",
       "\n",
       "        [[0.]]]], dtype=float32)"
      ]
     },
     "execution_count": 41,
     "metadata": {},
     "output_type": "execute_result"
    }
   ],
   "source": [
    "inp"
   ]
  },
  {
   "cell_type": "code",
   "execution_count": 42,
   "metadata": {},
   "outputs": [
    {
     "data": {
      "text/plain": [
       "array([[[[1., 1.],\n",
       "         [1., 1.]]]], dtype=float32)"
      ]
     },
     "execution_count": 42,
     "metadata": {},
     "output_type": "execute_result"
    }
   ],
   "source": [
    "w"
   ]
  },
  {
   "cell_type": "code",
   "execution_count": 43,
   "metadata": {},
   "outputs": [
    {
     "data": {
      "text/plain": [
       "(1, 1, 2, 2)"
      ]
     },
     "execution_count": 43,
     "metadata": {},
     "output_type": "execute_result"
    }
   ],
   "source": [
    "w.shape"
   ]
  },
  {
   "cell_type": "code",
   "execution_count": 44,
   "metadata": {},
   "outputs": [
    {
     "data": {
      "text/plain": [
       "(2, 2, 1, 1)"
      ]
     },
     "execution_count": 44,
     "metadata": {},
     "output_type": "execute_result"
    }
   ],
   "source": [
    "inp.shape"
   ]
  },
  {
   "cell_type": "code",
   "execution_count": 45,
   "metadata": {},
   "outputs": [
    {
     "data": {
      "text/plain": [
       "array([[[[1.]],\n",
       "\n",
       "        [[1.]]],\n",
       "\n",
       "\n",
       "       [[[3.]],\n",
       "\n",
       "        [[3.]]]], dtype=float32)"
      ]
     },
     "execution_count": 45,
     "metadata": {},
     "output_type": "execute_result"
    }
   ],
   "source": [
    "out"
   ]
  },
  {
   "cell_type": "code",
   "execution_count": 46,
   "metadata": {},
   "outputs": [
    {
     "data": {
      "text/plain": [
       "array([[[[-2.]],\n",
       "\n",
       "        [[ 0.]]],\n",
       "\n",
       "\n",
       "       [[[ 4.]],\n",
       "\n",
       "        [[ 0.]]]], dtype=float32)"
      ]
     },
     "execution_count": 46,
     "metadata": {},
     "output_type": "execute_result"
    }
   ],
   "source": [
    "comp_out\n",
    "\n"
   ]
  },
  {
   "cell_type": "code",
   "execution_count": 47,
   "metadata": {},
   "outputs": [
    {
     "data": {
      "text/plain": [
       "(2, 2, 1, 1)"
      ]
     },
     "execution_count": 47,
     "metadata": {},
     "output_type": "execute_result"
    }
   ],
   "source": [
    "out.shape"
   ]
  },
  {
   "cell_type": "code",
   "execution_count": 48,
   "metadata": {},
   "outputs": [
    {
     "data": {
      "text/plain": [
       "array([[[[1.]],\n",
       "\n",
       "        [[0.]]]], dtype=float32)"
      ]
     },
     "execution_count": 48,
     "metadata": {},
     "output_type": "execute_result"
    }
   ],
   "source": [
    "real"
   ]
  },
  {
   "cell_type": "code",
   "execution_count": 49,
   "metadata": {},
   "outputs": [
    {
     "data": {
      "text/plain": [
       "array([[[[3.]],\n",
       "\n",
       "        [[0.]]]], dtype=float32)"
      ]
     },
     "execution_count": 49,
     "metadata": {},
     "output_type": "execute_result"
    }
   ],
   "source": [
    "imag"
   ]
  },
  {
   "cell_type": "code",
   "execution_count": 50,
   "metadata": {},
   "outputs": [
    {
     "data": {
      "text/plain": [
       "array([[[[1.]],\n",
       "\n",
       "        [[0.]]],\n",
       "\n",
       "\n",
       "       [[[3.]],\n",
       "\n",
       "        [[0.]]]], dtype=float32)"
      ]
     },
     "execution_count": 50,
     "metadata": {},
     "output_type": "execute_result"
    }
   ],
   "source": [
    "inp"
   ]
  },
  {
   "cell_type": "code",
   "execution_count": 51,
   "metadata": {},
   "outputs": [
    {
     "data": {
      "text/plain": [
       "array([[[[1., 1.],\n",
       "         [1., 1.]]]], dtype=float32)"
      ]
     },
     "execution_count": 51,
     "metadata": {},
     "output_type": "execute_result"
    }
   ],
   "source": [
    "w"
   ]
  },
  {
   "cell_type": "code",
   "execution_count": 52,
   "metadata": {},
   "outputs": [
    {
     "data": {
      "text/plain": [
       "array([[[[1.],\n",
       "         [1.]]]], dtype=float32)"
      ]
     },
     "execution_count": 52,
     "metadata": {},
     "output_type": "execute_result"
    }
   ],
   "source": [
    "real_w"
   ]
  },
  {
   "cell_type": "code",
   "execution_count": 53,
   "metadata": {},
   "outputs": [
    {
     "data": {
      "text/plain": [
       "(1, 1, 2, 2)"
      ]
     },
     "execution_count": 53,
     "metadata": {},
     "output_type": "execute_result"
    }
   ],
   "source": [
    "w.shape"
   ]
  },
  {
   "cell_type": "code",
   "execution_count": 54,
   "metadata": {},
   "outputs": [
    {
     "data": {
      "text/plain": [
       "array([[[[1., 1.],\n",
       "         [1., 1.]]]], dtype=float32)"
      ]
     },
     "execution_count": 54,
     "metadata": {},
     "output_type": "execute_result"
    }
   ],
   "source": [
    "w"
   ]
  },
  {
   "cell_type": "code",
   "execution_count": null,
   "metadata": {},
   "outputs": [],
   "source": [
    "#     for i in range(hyper_dimension):\n",
    "#         print(i)\n",
    "#         partial_out = 0\n",
    "#         for j in range(hyper_dimension):\n",
    "#             for k in range(hyper_dimension):\n",
    "#                 if (j + k) % hyper_dimension == i:\n",
    "#                     print((j,k))\n",
    "#                     partial_out = partial_out + ref_partial[j][k] * algebra_map[j][k]\n",
    "#         ref_outputs.append(partial_out)"
   ]
  },
  {
   "cell_type": "code",
   "execution_count": 124,
   "metadata": {},
   "outputs": [],
   "source": [
    "filters = 2\n",
    "kernel_size = 1\n",
    "batch_size = 2\n",
    "height = 2\n",
    "width = 2\n",
    "channels = 2\n",
    "\n",
    "l = generic_layers.Conv2D(1, ['', '12'], (2, 0, 0), filters=filters, kernel_size=kernel_size)\n",
    "t_shape = (batch_size, channels, height, width)\n",
    "real = np.random.rand(*t_shape).astype('f')\n",
    "imag = np.random.rand(*t_shape).astype('f')\n",
    "inp = np.concatenate((real, imag)).astype('f')\n",
    "out = l(inp).numpy()\n",
    "\n",
    "w = l.get_weights()[0]\n",
    "real_w, imag_w = np.split(w, 2, axis=3)\n",
    "\n",
    "l_tf = tf.keras.layers.Conv2D(filters=filters, kernel_size=kernel_size)\n",
    "l_tf(real)\n",
    "l_tf.set_weights([real_w, l_tf.get_weights()[1]])\n",
    "real_real = l_tf(real)\n",
    "real_imag = l_tf(imag)\n",
    "l_tf.set_weights([imag_w, l_tf.get_weights()[1]])\n",
    "imag_real = l_tf(real)\n",
    "imag_imag = l_tf(imag)\n",
    "comp_real = real_real - imag_imag\n",
    "comp_imag = real_imag + imag_real\n",
    "comp_out = np.concatenate((comp_real, comp_imag))\n",
    "\n",
    "assert_small_float_difference_numpy(out, comp_out, 0.001)"
   ]
  },
  {
   "cell_type": "code",
   "execution_count": 261,
   "metadata": {},
   "outputs": [],
   "source": [
    "def test_generic(layer_test, layer_ref, hyper_dimension, algebra_map, tensor_shape):\n",
    "    assert algebra_map.shape == (hyper_dimension, hyper_dimension, 2)\n",
    "    \n",
    "    components = []\n",
    "    for _ in range(hyper_dimension):\n",
    "        component = np.random.rand(*tensor_shape).astype('f')\n",
    "        components.append(component)\n",
    "    \n",
    "    inp = np.concatenate(components)\n",
    "    test_out = layer_test(inp)\n",
    "    \n",
    "    w = layer_test.get_weights()[0]\n",
    "    w_components = np.split(w, hyper_dimension, axis=-1)\n",
    "    \n",
    "    layer_ref(components[0])\n",
    "    bias = layer_ref.get_weights()[1]\n",
    "    \n",
    "    ref_partial = [[] for _ in range(hyper_dimension)]\n",
    "    for i in range(hyper_dimension):\n",
    "        layer_ref.set_weights([w_components[i], bias])\n",
    "        for j in range(hyper_dimension):\n",
    "            inter_res = layer_ref(components[j])\n",
    "            ref_partial[i].append(inter_res)\n",
    "    \n",
    "    ref_outputs = [0 for _ in range(hyper_dimension)]\n",
    "    for i in range(hyper_dimension):\n",
    "        for j in range(hyper_dimension):\n",
    "            which, coeff = algebra_map[i][j]\n",
    "            ref_outputs[which] = ref_outputs[which] + ref_partial[i][j] * coeff\n",
    "        \n",
    "    ref_out = np.concatenate(ref_outputs)\n",
    "    \n",
    "#     print(test_out)\n",
    "#     print(ref_out)\n",
    "    \n",
    "    assert_small_float_difference(test_out, ref_out, 0.0001)"
   ]
  },
  {
   "cell_type": "code",
   "execution_count": 262,
   "metadata": {},
   "outputs": [],
   "source": [
    "layer_test = generic_layers.Conv2D(1, ['', '12'], (2, 0, 0), filters=filters, kernel_size=kernel_size)\n",
    "layer_ref = tf.keras.layers.Conv2D(filters=filters, kernel_size=kernel_size)"
   ]
  },
  {
   "cell_type": "code",
   "execution_count": 263,
   "metadata": {},
   "outputs": [],
   "source": [
    "test_generic(layer_test, layer_ref, 2, np.array([[(0, 1), (1, 1)], [(1, 1), (0, -1)]]), t_shape)"
   ]
  },
  {
   "cell_type": "code",
   "execution_count": 269,
   "metadata": {},
   "outputs": [],
   "source": [
    "batch_size = 4\n",
    "height = 6\n",
    "width = 10\n",
    "channels = 8\n",
    "\n",
    "t_shape = (batch_size, channels, height, width)"
   ]
  },
  {
   "cell_type": "code",
   "execution_count": 270,
   "metadata": {},
   "outputs": [],
   "source": [
    "layer_kwargs = {\n",
    "    'filters' : 18,\n",
    "    'kernel_size' : 2,\n",
    "}\n",
    "\n",
    "# uptype = (1, ['', '12'], (2, 0, 0))\n",
    "# hyper_dimension = 2\n",
    "# algebra_map = np.array([[(0, 1), (1, 1)], [(1, 1), (0, -1)]])\n",
    "\n",
    "uptype = (2, ['', '12', '13', '23'], (3, 0, 0))\n",
    "hyper_dimension = 4\n",
    "algebra_map = np.array([\n",
    "    [(0, 1), (1, 1), (2, 1), (3, 1)],\n",
    "    [(1, 1), (0, -1), (3, 1), (2, -1)],\n",
    "    [(2, 1), (3, -1), (0, -1), (1, 1)],\n",
    "    [(3, 1), (2, 1), (1, -1), (0, -1)],\n",
    "])\n",
    "\n",
    "layer_test = generic_layers.Conv2D(*uptype, **layer_kwargs)\n",
    "layer_ref = tf.keras.layers.Conv2D(**layer_kwargs)"
   ]
  },
  {
   "cell_type": "code",
   "execution_count": 271,
   "metadata": {},
   "outputs": [],
   "source": [
    "test_generic(layer_test, layer_ref, hyper_dimension, algebra_map, t_shape)"
   ]
  },
  {
   "cell_type": "code",
   "execution_count": 272,
   "metadata": {},
   "outputs": [],
   "source": [
    "layer_kwargs = {\n",
    "    'units' : 1\n",
    "}\n",
    "\n",
    "layer_test = generic_layers.Dense(*uptype, **layer_kwargs)\n",
    "layer_ref = tf.keras.layers.Dense(**layer_kwargs)\n",
    "\n",
    "t_shape = (batch_size, channels)"
   ]
  },
  {
   "cell_type": "code",
   "execution_count": 273,
   "metadata": {},
   "outputs": [],
   "source": [
    "test_generic(layer_test, layer_ref, hyper_dimension, algebra_map, t_shape)"
   ]
  },
  {
   "cell_type": "code",
   "execution_count": null,
   "metadata": {},
   "outputs": [],
   "source": []
  }
 ],
 "metadata": {
  "kernelspec": {
   "display_name": "Python 3",
   "language": "python",
   "name": "python3"
  },
  "language_info": {
   "codemirror_mode": {
    "name": "ipython",
    "version": 3
   },
   "file_extension": ".py",
   "mimetype": "text/x-python",
   "name": "python",
   "nbconvert_exporter": "python",
   "pygments_lexer": "ipython3",
   "version": "3.8.5"
  }
 },
 "nbformat": 4,
 "nbformat_minor": 4
}
